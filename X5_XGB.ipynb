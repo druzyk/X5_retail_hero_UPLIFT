{
 "cells": [
  {
   "cell_type": "code",
   "execution_count": 1,
   "metadata": {},
   "outputs": [],
   "source": [
    "import pandas as pd\n",
    "import numpy as np\n",
    "from sklift.models import ClassTransformation\n",
    "from sklearn.model_selection import train_test_split\n",
    "from sklift.metrics import uplift_at_k\n",
    "from sklearn.ensemble import GradientBoostingClassifier \n",
    "from sklearn.preprocessing import PolynomialFeatures\n",
    "import matplotlib.pyplot as plt\n",
    "import xgboost as xgb\n",
    "from sklearn.model_selection import StratifiedShuffleSplit\n",
    "from sklearn.preprocessing import MinMaxScaler\n",
    "from sklift.metrics import uplift_at_k\n",
    "import seaborn as sns"
   ]
  },
  {
   "cell_type": "code",
   "execution_count": 42,
   "metadata": {},
   "outputs": [],
   "source": [
    "pd.set_option('display.max_columns', 300)\n",
    "clients = pd.read_csv(r'C:\\datasets\\retailhero-uplift\\data\\final_clients2.csv', index_col='client_id')\n",
    "clients_other = pd.read_csv(r'C:\\datasets\\retailhero-uplift\\data\\final_clients.csv', index_col='client_id')\n",
    "uplift_train = pd.read_csv(r'C:\\datasets\\retailhero-uplift\\data\\uplift_train.csv', index_col='client_id')\n",
    "uplift_test = pd.read_csv(r'C:\\datasets\\retailhero-uplift\\data\\uplift_test.csv', index_col='client_id')\n",
    "uplift_sample_submission = pd.read_csv(r'C:\\datasets\\retailhero-uplift\\data\\uplift_sample_submission.csv', index_col='client_id')\n",
    "pd.options.display.max_rows=100\n",
    "client_index = clients.index"
   ]
  },
  {
   "cell_type": "code",
   "execution_count": 43,
   "metadata": {},
   "outputs": [],
   "source": [
    "clients = clients.drop(['Unnamed: 0', 'store_count', 'gender', 'first_issue_date', 'first_redeem_date', \n",
    "                        'timedelta', 'transaction_count', 'purchase_store_sum', 'store_count', 'product_id', \n",
    "                        'age'], axis=1)\n",
    "clients_other = clients_other.drop(['Unnamed: 0'], axis=1)\n",
    "clients = clients.merge(clients_other, left_index=True, right_index=True)\n",
    "clients = clients.drop(['timedelta', 'express_points_received', 'express_points_spent', \n",
    "                        'express_points_received_mean', 'purchase_trans_mean', 'points_received', \n",
    "                        'purchase_trans_sum', 'product_id', 'age', 'gender', 'mean_prod_trans', \n",
    "                        'regular_points_spent_mean', 'percent_points', 'regular_points_received', \n",
    "                        'std', 'points_spent'], axis=1)"
   ]
  },
  {
   "cell_type": "code",
   "execution_count": 44,
   "metadata": {},
   "outputs": [],
   "source": [
    "#clients.loc[clients['points_spent']>=800, 'points_spent'] = clients['points_spent'].median()\n",
    "clients.loc[clients['purchase_store_mean']>=290000, 'purchase_store_mean'] = clients['purchase_store_mean'].median()"
   ]
  },
  {
   "cell_type": "code",
   "execution_count": 45,
   "metadata": {},
   "outputs": [],
   "source": [
    "#clients['points_spent'] = np.log(clients['points_spent']+1)\n",
    "clients['purchase_store_mean'] = np.log(clients['purchase_store_mean']+1)\n",
    "clients['mean_prod_store'] = np.log(clients['mean_prod_store']+1)\n",
    "clients['first_issue_date'] = np.log(clients['first_issue_date']+1)\n",
    "clients['first_redeem_date'] = np.log(clients['first_redeem_date']+1)\n",
    "clients['regular_points_spent'] = np.log(clients['regular_points_spent']+1)\n",
    "clients['purchase_sum'] = np.log(clients['purchase_sum']+1)\n",
    "clients['regular_points_received_mean'] = np.log(clients['regular_points_received_mean']+1)\n",
    "clients['purchase_sum_mean'] = np.log(clients['purchase_sum_mean']+1)\n",
    "clients['trn_sum_from_iss_mean'] = np.log(clients['trn_sum_from_iss_mean']+1)\n",
    "clients['sum_prod_store'] = np.log(clients['sum_prod_store']+1)\n",
    "clients['transaction_id'] = np.log(clients['transaction_id']+1)\n",
    "clients['store_id'] = np.log(clients['store_id']+1)\n",
    "clients['trn_sum_from_iss'] = np.log(clients['trn_sum_from_iss']+1)\n",
    "clients['is_own_trademark'] = np.log(clients['is_own_trademark']+1)\n",
    "clients['express_points_spent_mean'] = abs(clients['express_points_spent_mean'])"
   ]
  },
  {
   "cell_type": "code",
   "execution_count": 46,
   "metadata": {},
   "outputs": [],
   "source": [
    "clients['purchase_store_mean'] = clients['purchase_store_mean'] / clients['purchase_store_mean'].max()\n",
    "clients['sum_prod_store'] = clients['sum_prod_store'] / clients['sum_prod_store'].max()\n",
    "clients['mean_prod_store'] = clients['mean_prod_store'] / clients['mean_prod_store'].max()\n",
    "clients['first_issue_date'] = clients['first_issue_date'] / clients['first_issue_date'].max()\n",
    "clients['first_redeem_date'] = clients['first_redeem_date'] / clients['first_redeem_date'].max()\n",
    "clients['transaction_id'] = clients['transaction_id'] / clients['transaction_id'].max()\n",
    "clients['store_id'] = clients['store_id'] / clients['store_id'].max()\n",
    "clients['regular_points_spent'] = clients['regular_points_spent'] / clients['regular_points_spent'].max()\n",
    "clients['purchase_sum'] = clients['purchase_sum'] / clients['purchase_sum'].max()\n",
    "clients['trn_sum_from_iss'] = clients['trn_sum_from_iss'] / clients['trn_sum_from_iss'].max()\n",
    "clients['regular_points_received_mean'] = clients['regular_points_received_mean'] / clients['regular_points_received_mean'].max()\n",
    "clients['express_points_spent_mean'] = clients['express_points_spent_mean'] / clients['express_points_spent_mean'].max()\n",
    "clients['purchase_sum_mean'] = clients['purchase_sum_mean'] / clients['purchase_sum_mean'].max()\n",
    "clients['trn_sum_from_iss_mean'] = clients['trn_sum_from_iss_mean'] / clients['trn_sum_from_iss_mean'].max()\n",
    "clients['is_own_trademark'] = clients['is_own_trademark'] / clients['is_own_trademark'].max()\n",
    "clients['is_alcohol'] = clients['is_alcohol'] / clients['is_alcohol'].max()"
   ]
  },
  {
   "cell_type": "code",
   "execution_count": 47,
   "metadata": {},
   "outputs": [],
   "source": [
    "uplift_train = clients.merge(uplift_train, right_index=True, left_index=True)\n",
    "uplift_test = clients.merge(uplift_test, right_index=True, left_index=True)\n",
    "df_features = clients.copy()\n",
    "indices_train = uplift_train.index\n",
    "indices_test = uplift_test.index\n",
    "indices_learn, indices_valid = train_test_split(uplift_train.index, test_size=0.3, random_state=123)\n",
    "treat_train = uplift_train.loc[indices_learn, 'treatment_flg']"
   ]
  },
  {
   "cell_type": "code",
   "execution_count": 48,
   "metadata": {},
   "outputs": [],
   "source": [
    "uplift_train['classes'] = 'NaN'"
   ]
  },
  {
   "cell_type": "code",
   "execution_count": 49,
   "metadata": {},
   "outputs": [],
   "source": [
    "uplift_train.loc[(uplift_train['treatment_flg']==0)&(uplift_train['target']==0), 'classes'] = 0\n",
    "uplift_train.loc[(uplift_train['treatment_flg']==0)&(uplift_train['target']==1), 'classes'] = 1\n",
    "uplift_train.loc[(uplift_train['treatment_flg']==1)&(uplift_train['target']==0), 'classes'] = 2\n",
    "uplift_train.loc[(uplift_train['treatment_flg']==1)&(uplift_train['target']==1), 'classes'] = 3"
   ]
  },
  {
   "cell_type": "code",
   "execution_count": 50,
   "metadata": {},
   "outputs": [],
   "source": [
    "X_train = df_features.loc[indices_learn, :]\n",
    "y_train = uplift_train.loc[indices_learn, 'classes']\n",
    "treat_train = uplift_train.loc[indices_learn, 'treatment_flg']\n",
    "\n",
    "X_val = df_features.loc[indices_valid, :]\n",
    "y_val = uplift_train.loc[indices_valid, 'classes']\n",
    "treat_val =  uplift_train.loc[indices_valid, 'treatment_flg']\n",
    "\n",
    "n_classes_ = len(np.unique(y_train))"
   ]
  },
  {
   "cell_type": "code",
   "execution_count": 51,
   "metadata": {
    "scrolled": true
   },
   "outputs": [],
   "source": [
    "xgb_model = xgb.XGBClassifier(objective='multi:softprob')\n",
    "xgb_params = [{'num_class': n_classes_}]\n",
    "xgb_model.fit(X_train, y_train)\n",
    "predict = xgb_model.predict_proba(X_val)"
   ]
  },
  {
   "cell_type": "code",
   "execution_count": 58,
   "metadata": {},
   "outputs": [],
   "source": [
    "weight = .21\n",
    "#weight = 0.4"
   ]
  },
  {
   "cell_type": "code",
   "execution_count": 59,
   "metadata": {},
   "outputs": [
    {
     "data": {
      "text/plain": [
       "0.09519945"
      ]
     },
     "execution_count": 59,
     "metadata": {},
     "output_type": "execute_result"
    }
   ],
   "source": [
    "predict_class = xgb_model.predict(X_val)\n",
    "uplift = (predict[:, 3]/weight + predict[:, 0]/(1 - weight)) - (predict[:, 1]/weight + predict[:, 2]/(1 - weight))\n",
    "uplift.mean()"
   ]
  },
  {
   "cell_type": "code",
   "execution_count": 60,
   "metadata": {},
   "outputs": [
    {
     "name": "stdout",
     "output_type": "stream",
     "text": [
      "0.37020929147503834\n"
     ]
    }
   ],
   "source": [
    "count = 0\n",
    "for i, j in zip(y_val.values, predict_class):\n",
    "    if i==j:\n",
    "        count += 1\n",
    "print(count / predict_class.shape[0])"
   ]
  },
  {
   "cell_type": "code",
   "execution_count": 61,
   "metadata": {},
   "outputs": [],
   "source": [
    "predict = xgb_model.predict_proba(uplift_test)\n",
    "uplift = (predict[:, 3]/weight + predict[:, 0]/(1 - weight)) - (predict[:, 1]/weight + predict[:, 2]/(1 - weight))\n",
    "uplift = pd.DataFrame(uplift)\n",
    "uplift_result = pd.DataFrame(uplift_test.index)\n",
    "uplift_result['uplift'] = uplift"
   ]
  },
  {
   "cell_type": "code",
   "execution_count": 62,
   "metadata": {},
   "outputs": [],
   "source": [
    "uplift_result.to_csv(r'C:\\datasets\\retailhero-uplift\\data\\uplift_submission.csv')"
   ]
  },
  {
   "cell_type": "code",
   "execution_count": 63,
   "metadata": {},
   "outputs": [
    {
     "data": {
      "text/html": [
       "<div>\n",
       "<style scoped>\n",
       "    .dataframe tbody tr th:only-of-type {\n",
       "        vertical-align: middle;\n",
       "    }\n",
       "\n",
       "    .dataframe tbody tr th {\n",
       "        vertical-align: top;\n",
       "    }\n",
       "\n",
       "    .dataframe thead th {\n",
       "        text-align: right;\n",
       "    }\n",
       "</style>\n",
       "<table border=\"1\" class=\"dataframe\">\n",
       "  <thead>\n",
       "    <tr style=\"text-align: right;\">\n",
       "      <th></th>\n",
       "      <th>0</th>\n",
       "    </tr>\n",
       "  </thead>\n",
       "  <tbody>\n",
       "    <tr>\n",
       "      <td>0</td>\n",
       "      <td>-0.095288</td>\n",
       "    </tr>\n",
       "    <tr>\n",
       "      <td>1</td>\n",
       "      <td>-0.001066</td>\n",
       "    </tr>\n",
       "    <tr>\n",
       "      <td>2</td>\n",
       "      <td>0.060186</td>\n",
       "    </tr>\n",
       "    <tr>\n",
       "      <td>3</td>\n",
       "      <td>0.132601</td>\n",
       "    </tr>\n",
       "    <tr>\n",
       "      <td>4</td>\n",
       "      <td>0.082224</td>\n",
       "    </tr>\n",
       "    <tr>\n",
       "      <td>...</td>\n",
       "      <td>...</td>\n",
       "    </tr>\n",
       "    <tr>\n",
       "      <td>200118</td>\n",
       "      <td>0.125415</td>\n",
       "    </tr>\n",
       "    <tr>\n",
       "      <td>200119</td>\n",
       "      <td>0.166394</td>\n",
       "    </tr>\n",
       "    <tr>\n",
       "      <td>200120</td>\n",
       "      <td>0.010515</td>\n",
       "    </tr>\n",
       "    <tr>\n",
       "      <td>200121</td>\n",
       "      <td>0.067093</td>\n",
       "    </tr>\n",
       "    <tr>\n",
       "      <td>200122</td>\n",
       "      <td>0.210943</td>\n",
       "    </tr>\n",
       "  </tbody>\n",
       "</table>\n",
       "<p>200123 rows × 1 columns</p>\n",
       "</div>"
      ],
      "text/plain": [
       "               0\n",
       "0      -0.095288\n",
       "1      -0.001066\n",
       "2       0.060186\n",
       "3       0.132601\n",
       "4       0.082224\n",
       "...          ...\n",
       "200118  0.125415\n",
       "200119  0.166394\n",
       "200120  0.010515\n",
       "200121  0.067093\n",
       "200122  0.210943\n",
       "\n",
       "[200123 rows x 1 columns]"
      ]
     },
     "execution_count": 63,
     "metadata": {},
     "output_type": "execute_result"
    }
   ],
   "source": [
    "uplift"
   ]
  },
  {
   "cell_type": "code",
   "execution_count": null,
   "metadata": {},
   "outputs": [],
   "source": []
  },
  {
   "cell_type": "code",
   "execution_count": null,
   "metadata": {},
   "outputs": [],
   "source": []
  },
  {
   "cell_type": "code",
   "execution_count": null,
   "metadata": {},
   "outputs": [],
   "source": []
  },
  {
   "cell_type": "code",
   "execution_count": null,
   "metadata": {},
   "outputs": [],
   "source": []
  },
  {
   "cell_type": "code",
   "execution_count": null,
   "metadata": {},
   "outputs": [],
   "source": []
  },
  {
   "cell_type": "code",
   "execution_count": null,
   "metadata": {},
   "outputs": [],
   "source": []
  },
  {
   "cell_type": "code",
   "execution_count": null,
   "metadata": {},
   "outputs": [],
   "source": []
  }
 ],
 "metadata": {
  "kernelspec": {
   "display_name": "Python 3",
   "language": "python",
   "name": "python3"
  },
  "language_info": {
   "codemirror_mode": {
    "name": "ipython",
    "version": 3
   },
   "file_extension": ".py",
   "mimetype": "text/x-python",
   "name": "python",
   "nbconvert_exporter": "python",
   "pygments_lexer": "ipython3",
   "version": "3.7.4"
  }
 },
 "nbformat": 4,
 "nbformat_minor": 2
}
